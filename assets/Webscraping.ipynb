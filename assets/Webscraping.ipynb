{
 "cells": [
  {
   "cell_type": "code",
   "execution_count": null,
   "id": "f789e2ea",
   "metadata": {},
   "outputs": [],
   "source": [
    "# 1. Webscrape data"
   ]
  },
  {
   "cell_type": "code",
   "execution_count": 18,
   "id": "340fb443",
   "metadata": {},
   "outputs": [
    {
     "name": "stdout",
     "output_type": "stream",
     "text": [
      "Search data science\n",
      "\n",
      "The Rise of Connector Roles in Data Science\n",
      "At many companies, gaps in organizational structure get in the way of data science success. A new type of role, connectors, can bridge those gaps to help...\n",
      "How the Cloud Is Changing Data Science\n",
      "Analytics and data science\n",
      "An Art & A Science: How to Apply Design Thinking to Data Science Challenges\n",
      "Data Science at the Warriors\n",
      "An introductory case for a data science course, which provides an overview of the data science pipeline.\n",
      "Ask HBR: Building a More Diverse Data Science Team\n",
      "4 Ways to Democratize Data Science in Your Organization\n",
      "Analytics and data science\n",
      "Why So Many Data Science Projects Fail to Deliver\n",
      "Ask HBR: Data Science and the Art of Persuasion\n",
      "Analytics and data science\n",
      "Applying Data Science and Analytics at P&G\n",
      "Set in December 2019, this case explores how P&G has applied data science and analytics to cut costs and improve outcomes across its business units. The...\n",
      "Kaggle 2019 Data Science Survey\n"
     ]
    }
   ],
   "source": [
    "from bs4 import BeautifulSoup\n",
    "import requests\n",
    "import xml\n",
    "url = \"https://hbr.org/search?search_type=&term=data+science&term=\"\n",
    "scrape= requests.get(url)\n",
    "soup = BeautifulSoup(google_scrape.text, \"html.parser\")\n",
    "results = soup.find_all(string=lambda text: 'data science' in text.lower())\n",
    "\n",
    "for result in results:\n",
    "    print(result.text)\n"
   ]
  },
  {
   "cell_type": "code",
   "execution_count": null,
   "id": "75260def",
   "metadata": {},
   "outputs": [],
   "source": [
    "# 2. Export data into xml file"
   ]
  },
  {
   "cell_type": "code",
   "execution_count": 23,
   "id": "5fd76665",
   "metadata": {},
   "outputs": [],
   "source": [
    "from lxml import etree as ET\n",
    "\n",
    "root = ET.Element('datascience')\n",
    "\n",
    "# Iterate through the scraped data and create XML elements\n",
    "for item in results:\n",
    "    article = ET.SubElement(root, 'keyword')\n",
    "\n",
    "\n",
    "# Create an ElementTree object with the root element\n",
    "tree = ET.ElementTree(root)\n",
    "\n",
    "# Write the XML tree to a file\n",
    "tree.write('/Users/nimas/results.xml', encoding='utf-8', xml_declaration=True, pretty_print=True)"
   ]
  },
  {
   "cell_type": "code",
   "execution_count": 29,
   "id": "1874a7cf",
   "metadata": {},
   "outputs": [],
   "source": [
    "import xml.etree.ElementTree as ET\n",
    "import re\n",
    "\n",
    "\n",
    "# Define a regex pattern to match XML tags\n",
    "pattern = re.compile(r'<.*?>')\n",
    "\n",
    "# Extract only the text content from each scraped entry\n",
    "scraped_info = [re.sub(pattern, '', entry) for entry in results]\n",
    "\n",
    "\n",
    "# Create the root element of the XML tree\n",
    "root = ET.Element('articles')\n",
    "\n",
    "# Iterate through the scraped data and create XML elements\n",
    "for title in scraped_info:\n",
    "    article = ET.SubElement(root, 'article')\n",
    "    title_element = ET.SubElement(article, 'title')\n",
    "    title_element.text = title\n",
    "\n",
    "# Create an ElementTree object with the root element\n",
    "tree = ET.ElementTree(root)\n",
    "\n",
    "# Convert the XML tree to a string with indentation\n",
    "xml_str = ET.tostring(root, encoding='unicode', method='xml')\n",
    "\n",
    "# Write the indented XML string to a file\n",
    "with open('scraped_datascience2.xml', 'w') as f:\n",
    "    f.write(xml_str)"
   ]
  }
 ],
 "metadata": {
  "kernelspec": {
   "display_name": "Python 3 (ipykernel)",
   "language": "python",
   "name": "python3"
  },
  "language_info": {
   "codemirror_mode": {
    "name": "ipython",
    "version": 3
   },
   "file_extension": ".py",
   "mimetype": "text/x-python",
   "name": "python",
   "nbconvert_exporter": "python",
   "pygments_lexer": "ipython3",
   "version": "3.11.4"
  }
 },
 "nbformat": 4,
 "nbformat_minor": 5
}
